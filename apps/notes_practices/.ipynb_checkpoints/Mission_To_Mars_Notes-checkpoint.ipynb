{
 "cells": [
  {
   "cell_type": "markdown",
   "id": "c59703bb-3376-41fb-ad4f-f5c21eb6955e",
   "metadata": {},
   "source": [
    "## MISSION TO MARS\n",
    "### Scrape Mars Data: The News"
   ]
  },
  {
   "cell_type": "code",
   "execution_count": 1,
   "id": "90d44e35-8e84-4e78-bbcc-2886328a2a51",
   "metadata": {},
   "outputs": [],
   "source": [
    "# Import Splinter and BeautifulSoup\n",
    "from splinter import Browser\n",
    "from bs4 import BeautifulSoup as soup\n",
    "from webdriver_manager.chrome import ChromeDriverManager\n",
    "\n",
    "# Instead of scraping each row or data in table, scrape the entire table with Pandas' .read_html() function.\n",
    "import pandas as pd"
   ]
  },
  {
   "cell_type": "markdown",
   "id": "840f86bc-217c-4eb5-8b23-cacb2b223ae9",
   "metadata": {},
   "source": [
    "Set up the executable path and initialize a browser"
   ]
  },
  {
   "cell_type": "code",
   "execution_count": 2,
   "id": "475c5b21-e995-4dcd-a986-339bde7b7d07",
   "metadata": {},
   "outputs": [
    {
     "name": "stderr",
     "output_type": "stream",
     "text": [
      "\n",
      "\n",
      "====== WebDriver manager ======\n",
      "Current google-chrome version is 92.0.4515\n",
      "Get LATEST driver version for 92.0.4515\n",
      "Driver [C:\\Users\\Daniel Brock\\.wdm\\drivers\\chromedriver\\win32\\92.0.4515.107\\chromedriver.exe] found in cache\n"
     ]
    }
   ],
   "source": [
    "# Set your executable path via Splinter\n",
    "# Then set up the URL 'https://redplanetscience.com/' for scraping\n",
    "executable_path = {'executable_path': ChromeDriverManager().install()}\n",
    "browser = Browser('chrome', **executable_path, headless=False)"
   ]
  },
  {
   "cell_type": "markdown",
   "id": "15422474-ac66-4f17-a11b-c4f8daaf02de",
   "metadata": {},
   "source": [
    "Assign the URL and instruct the browser to visit it"
   ]
  },
  {
   "cell_type": "code",
   "execution_count": 3,
   "id": "64e6c515-00bb-437a-a113-0e41f0b9a3b3",
   "metadata": {},
   "outputs": [
    {
     "data": {
      "text/plain": [
       "True"
      ]
     },
     "execution_count": 3,
     "metadata": {},
     "output_type": "execute_result"
    }
   ],
   "source": [
    "# Visit the mars nasa news site\n",
    "url = 'https://redplanetscience.com'\n",
    "browser.visit(url)\n",
    "# Optional delay for loading the page\n",
    "    # Search for elements with a specific combination of tag (div) and attribute (list_text).\n",
    "    # Tell our browser to wait one second before searching for components\n",
    "browser.is_element_present_by_css('div.list_text', wait_time=1)"
   ]
  },
  {
   "cell_type": "markdown",
   "id": "71b15795-7bc5-450f-a310-0015c58974bc",
   "metadata": {},
   "source": [
    "Use BeautifulSoup to parse the HTML"
   ]
  },
  {
   "cell_type": "code",
   "execution_count": 4,
   "id": "58a0c1b1-6950-4603-8324-2995801d1c18",
   "metadata": {},
   "outputs": [],
   "source": [
    "# Set up the HTML parser using BeautifulSoup\n",
    "html = browser.html\n",
    "news_soup = soup(html, 'html.parser')\n",
    "# Assign slide_elem as the variable to look for the <div /> tag and its descendent (the other tags within the <div /> element)\n",
    "slide_elem= news_soup.select_one('div.list_text')"
   ]
  },
  {
   "cell_type": "markdown",
   "id": "43985a60-29f9-473b-8561-5994162e5c22",
   "metadata": {},
   "source": [
    "After opening the page in a new browser, right-click to inspect and activate your DevTools. Then search for the HTML components you'll use to identify the title and paragraph you want. We'll want to assign the title and summary text to variables we'll reference later. "
   ]
  },
  {
   "cell_type": "code",
   "execution_count": 5,
   "id": "fac5cd2f-4d3a-4321-a7ca-822828bcafe2",
   "metadata": {},
   "outputs": [
    {
     "data": {
      "text/plain": [
       "<div class=\"content_title\">NASA InSight's 'Mole' Is Out of Sight</div>"
      ]
     },
     "execution_count": 5,
     "metadata": {},
     "output_type": "execute_result"
    }
   ],
   "source": [
    " # Chain .find onto our previously assigned variable, slide_elem and look for content title\n",
    "slide_elem.find('div', class_='content_title')    "
   ]
  },
  {
   "cell_type": "markdown",
   "id": "cb551b71-ade9-4416-9d0b-4cc695f96f7d",
   "metadata": {},
   "source": [
    "The title is in that mix of HTML in our output—that's awesome! But we need to get just the text, and the extra HTML stuff isn't necessary"
   ]
  },
  {
   "cell_type": "code",
   "execution_count": 6,
   "id": "9dc94b17-d6d1-4f87-adf5-a2ff02fa00e5",
   "metadata": {},
   "outputs": [
    {
     "name": "stdout",
     "output_type": "stream",
     "text": [
      "-------------1st ARTICLE---------\n",
      "NASA InSight's 'Mole' Is Out of Sight\n",
      "-------------SUMMARY-------------\n",
      "Now that the heat probe is just below the Martian surface, InSight's arm will scoop some additional soil on top to help it keep digging so it can take Mars' temperature.\n"
     ]
    }
   ],
   "source": [
    "# Use the parent element to find the first `a` tag and save it as `news_title` variable\n",
    "    # When the .get_text() this method is chained onto .find(), only the text of the element is returned.\n",
    "news_title = slide_elem.find('div', class_='content_title').get_text()\n",
    "print(\"-------------1st ARTICLE---------\")\n",
    "print(news_title)\n",
    "\n",
    "# Use the parent element to find the paragraph text\n",
    "news_summary = slide_elem.find('div', class_=\"article_teaser_body\").get_text()\n",
    "print(\"-------------SUMMARY-------------\")\n",
    "print(news_summary)"
   ]
  },
  {
   "cell_type": "markdown",
   "id": "fa7219b6-4aad-4752-8d54-d49da38a1ae0",
   "metadata": {},
   "source": [
    "### Scrape Mars Data: Featured Image"
   ]
  },
  {
   "cell_type": "code",
   "execution_count": 7,
   "id": "cd476819-2330-4947-8ef6-bdaed0be0992",
   "metadata": {},
   "outputs": [],
   "source": [
    "# Visit URL\n",
    "url = 'https://spaceimages-mars.com/'\n",
    "browser.visit(url)"
   ]
  },
  {
   "cell_type": "markdown",
   "id": "09b1da31-66c5-4f44-af60-e2b8cd4ae4d3",
   "metadata": {},
   "source": [
    "Next, we want to click the \"Full Image\" button. This button will direct our browser to an image slideshow. Let's take a look at the button's HTML tags and attributes with the DevTools.\n",
    "\n",
    "Since there are only three buttons, and we want to click the full-size image button, we can go ahead and use the HTML tag in our code."
   ]
  },
  {
   "cell_type": "code",
   "execution_count": 8,
   "id": "65689e0a-161e-4897-bfaf-4377934325a8",
   "metadata": {},
   "outputs": [],
   "source": [
    "# Find and click the full image button\n",
    "    # Assign a  new variable to hold the scraping result\n",
    "    # Use the browser finds to find an element by its tag\n",
    "    # Use index chaining at the end of first block of code to stipulate taht we want our browser to click the 2nd button\n",
    "full_imagine_elem = browser.find_by_tag('button')[1]\n",
    "    # Splinter will \"click\" the imagine to view its full size\n",
    "full_imagine_elem.click()"
   ]
  },
  {
   "cell_type": "markdown",
   "id": "9cc6d717-c1e1-43d5-8cc0-f4487fc7d541",
   "metadata": {},
   "source": [
    "With the new page loaded onto our automated browser, it needs to be parsed so we can continue and scrape the full-size image URL. "
   ]
  },
  {
   "cell_type": "code",
   "execution_count": 9,
   "id": "bdf7d96f-11c6-49b0-b3d1-b2f844910cbf",
   "metadata": {},
   "outputs": [],
   "source": [
    "# Parse the resulting html with soup\n",
    "html = browser.html\n",
    "img_soup = soup(html, 'html.parser')"
   ]
  },
  {
   "cell_type": "markdown",
   "id": "12fc8f19-1587-4dac-9cdc-c410bca93c60",
   "metadata": {},
   "source": [
    "Now we need to find the relative image URL.  In our browser (make sure you're on the same page as the automated one), activate your DevTools again. It's important to note that the value of the src will be different every time the page is updated, so we can't simply record the current value—we would only pull that image each time the code is executed.\n",
    "\n",
    "We'll use the image tag and class (img /and fancybox-img) to build the URL to the full-size image. "
   ]
  },
  {
   "cell_type": "code",
   "execution_count": 10,
   "id": "5ec0404b-4b86-444b-8184-2be7ddcd5bee",
   "metadata": {},
   "outputs": [
    {
     "data": {
      "text/plain": [
       "'image/featured/mars3.jpg'"
      ]
     },
     "execution_count": 10,
     "metadata": {},
     "output_type": "execute_result"
    }
   ],
   "source": [
    "# Find the relative image url using BeautifulSoup to look inside the <img /> tag for an image with a class of fancybox-image\n",
    "    # An img tag is nested within this HTML, so we've included it.\n",
    "    # .get('src') pulls the link to the image.\n",
    "img_url_rel = img_soup.find('img', class_='fancybox-image').get('src')\n",
    "img_url_rel\n",
    "# Basically we're saying, \"This is where the image we want lives—use the link that's inside these tags.\""
   ]
  },
  {
   "cell_type": "markdown",
   "id": "660bc1d7-a0d6-437a-a2dd-8d40dc83eef0",
   "metadata": {},
   "source": [
    "Let's add the base URL to our code, because if we copy and paste this link into a browser, it won't work. This is because it's only a partial link, as the base URL isn't included."
   ]
  },
  {
   "cell_type": "code",
   "execution_count": 11,
   "id": "dad3cfe6-c096-4385-ac3e-a714afffcb4f",
   "metadata": {},
   "outputs": [
    {
     "data": {
      "text/plain": [
       "'https://spaceimages-mars.com/image/featured/mars3.jpg'"
      ]
     },
     "execution_count": 11,
     "metadata": {},
     "output_type": "execute_result"
    }
   ],
   "source": [
    "# Use the base URL to create an absolute URL\n",
    "    # img_url is the variable that holds our f string\n",
    "    # the f-string is a type of string formatting used for print statements in Python.\n",
    "    # {} The curly brackets hold a variable that will be inserted into the f-string when it's executed.\n",
    "img_url = f'https://spaceimages-mars.com/{img_url_rel}'\n",
    "img_url"
   ]
  },
  {
   "cell_type": "markdown",
   "id": "f6d28de3-9c1e-46b9-b9a9-496b7bd28753",
   "metadata": {},
   "source": [
    "### Scrape Mars Data: Mars Facts\n",
    "Get a table from Mars Facts and display it as a table on our own web app. Let's look at the webpage again, this time using our DevTools. All of the data we want is in a table / tag. "
   ]
  },
  {
   "cell_type": "code",
   "execution_count": 12,
   "id": "45cbd31e-1785-4c21-b26d-8a90bc5c169c",
   "metadata": {},
   "outputs": [
    {
     "data": {
      "text/html": [
       "<div>\n",
       "<style scoped>\n",
       "    .dataframe tbody tr th:only-of-type {\n",
       "        vertical-align: middle;\n",
       "    }\n",
       "\n",
       "    .dataframe tbody tr th {\n",
       "        vertical-align: top;\n",
       "    }\n",
       "\n",
       "    .dataframe thead th {\n",
       "        text-align: right;\n",
       "    }\n",
       "</style>\n",
       "<table border=\"1\" class=\"dataframe\">\n",
       "  <thead>\n",
       "    <tr style=\"text-align: right;\">\n",
       "      <th></th>\n",
       "      <th>Mars</th>\n",
       "      <th>Earth</th>\n",
       "    </tr>\n",
       "    <tr>\n",
       "      <th>Description</th>\n",
       "      <th></th>\n",
       "      <th></th>\n",
       "    </tr>\n",
       "  </thead>\n",
       "  <tbody>\n",
       "    <tr>\n",
       "      <th>Mars - Earth Comparison</th>\n",
       "      <td>Mars</td>\n",
       "      <td>Earth</td>\n",
       "    </tr>\n",
       "    <tr>\n",
       "      <th>Diameter:</th>\n",
       "      <td>6,779 km</td>\n",
       "      <td>12,742 km</td>\n",
       "    </tr>\n",
       "    <tr>\n",
       "      <th>Mass:</th>\n",
       "      <td>6.39 × 10^23 kg</td>\n",
       "      <td>5.97 × 10^24 kg</td>\n",
       "    </tr>\n",
       "    <tr>\n",
       "      <th>Moons:</th>\n",
       "      <td>2</td>\n",
       "      <td>1</td>\n",
       "    </tr>\n",
       "    <tr>\n",
       "      <th>Distance from Sun:</th>\n",
       "      <td>227,943,824 km</td>\n",
       "      <td>149,598,262 km</td>\n",
       "    </tr>\n",
       "    <tr>\n",
       "      <th>Length of Year:</th>\n",
       "      <td>687 Earth days</td>\n",
       "      <td>365.24 days</td>\n",
       "    </tr>\n",
       "    <tr>\n",
       "      <th>Temperature:</th>\n",
       "      <td>-87 to -5 °C</td>\n",
       "      <td>-88 to 58°C</td>\n",
       "    </tr>\n",
       "  </tbody>\n",
       "</table>\n",
       "</div>"
      ],
      "text/plain": [
       "                                    Mars            Earth\n",
       "Description                                              \n",
       "Mars - Earth Comparison             Mars            Earth\n",
       "Diameter:                       6,779 km        12,742 km\n",
       "Mass:                    6.39 × 10^23 kg  5.97 × 10^24 kg\n",
       "Moons:                                 2                1\n",
       "Distance from Sun:        227,943,824 km   149,598,262 km\n",
       "Length of Year:           687 Earth days      365.24 days\n",
       "Temperature:                -87 to -5 °C      -88 to 58°C"
      ]
     },
     "execution_count": 12,
     "metadata": {},
     "output_type": "execute_result"
    }
   ],
   "source": [
    "# Create a new DataFrame from the HTML table.\n",
    "    # The Pandas function read_html() specifically searches for and returns a list of tables found in the HTML.\n",
    "    # By specifying an index of 0, we're telling Pandas to pull only the first table it encounters, or the first item in the list.\n",
    "# Assign columns to the new DataFrame for additional clarity.\n",
    "# Use the .set_index() function, we're turning the Description column into the DataFrame's index\n",
    "    # inplace=True means that the updated index will remain in place, without having to reassign the DataFrame to a new variable.\n",
    "df = pd.read_html('https://galaxyfacts-mars.com/')[0]\n",
    "df.columns = ['Description', 'Mars', 'Earth']\n",
    "df.set_index('Description', inplace=True)\n",
    "df    "
   ]
  },
  {
   "cell_type": "markdown",
   "id": "e7110158-d909-404e-826b-7fb7327abbff",
   "metadata": {},
   "source": [
    "Robin's web app is going to be an actual webpage. Thankfully, Pandas also has a way to easily convert our DataFrame back into HTML-ready code using the .to_html() function. "
   ]
  },
  {
   "cell_type": "code",
   "execution_count": 13,
   "id": "52a84e74-0e43-4ece-8c42-af2576de3e43",
   "metadata": {},
   "outputs": [
    {
     "data": {
      "text/plain": [
       "'<table border=\"1\" class=\"dataframe\">\\n  <thead>\\n    <tr style=\"text-align: right;\">\\n      <th></th>\\n      <th>Mars</th>\\n      <th>Earth</th>\\n    </tr>\\n    <tr>\\n      <th>Description</th>\\n      <th></th>\\n      <th></th>\\n    </tr>\\n  </thead>\\n  <tbody>\\n    <tr>\\n      <th>Mars - Earth Comparison</th>\\n      <td>Mars</td>\\n      <td>Earth</td>\\n    </tr>\\n    <tr>\\n      <th>Diameter:</th>\\n      <td>6,779 km</td>\\n      <td>12,742 km</td>\\n    </tr>\\n    <tr>\\n      <th>Mass:</th>\\n      <td>6.39 × 10^23 kg</td>\\n      <td>5.97 × 10^24 kg</td>\\n    </tr>\\n    <tr>\\n      <th>Moons:</th>\\n      <td>2</td>\\n      <td>1</td>\\n    </tr>\\n    <tr>\\n      <th>Distance from Sun:</th>\\n      <td>227,943,824 km</td>\\n      <td>149,598,262 km</td>\\n    </tr>\\n    <tr>\\n      <th>Length of Year:</th>\\n      <td>687 Earth days</td>\\n      <td>365.24 days</td>\\n    </tr>\\n    <tr>\\n      <th>Temperature:</th>\\n      <td>-87 to -5 °C</td>\\n      <td>-88 to 58°C</td>\\n    </tr>\\n  </tbody>\\n</table>'"
      ]
     },
     "execution_count": 13,
     "metadata": {},
     "output_type": "execute_result"
    }
   ],
   "source": [
    "df.to_html()"
   ]
  },
  {
   "cell_type": "markdown",
   "id": "ca52dfcf-26ce-4f36-a58b-baa1f3b66699",
   "metadata": {},
   "source": [
    "Now that we've gathered everything on Robin's list, we can end the automated browsing session. "
   ]
  },
  {
   "cell_type": "code",
   "execution_count": 14,
   "id": "8541f94d-b6d7-4b65-a5cd-7660d6ac776c",
   "metadata": {},
   "outputs": [],
   "source": [
    "browser.quit()"
   ]
  },
  {
   "cell_type": "code",
   "execution_count": null,
   "id": "682dafa6-f637-4e98-916a-6f65ba43927c",
   "metadata": {},
   "outputs": [],
   "source": []
  }
 ],
 "metadata": {
  "kernelspec": {
   "display_name": "PythonData",
   "language": "python",
   "name": "pythondata"
  },
  "language_info": {
   "codemirror_mode": {
    "name": "ipython",
    "version": 3
   },
   "file_extension": ".py",
   "mimetype": "text/x-python",
   "name": "python",
   "nbconvert_exporter": "python",
   "pygments_lexer": "ipython3",
   "version": "3.7.10"
  }
 },
 "nbformat": 4,
 "nbformat_minor": 5
}
